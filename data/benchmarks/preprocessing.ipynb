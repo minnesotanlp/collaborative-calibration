{
 "cells": [
  {
   "cell_type": "code",
   "execution_count": 2,
   "metadata": {},
   "outputs": [],
   "source": [
    "import json\n",
    "import pandas as pd\n",
    "import pickle"
   ]
  },
  {
   "cell_type": "code",
   "execution_count": 3,
   "metadata": {},
   "outputs": [],
   "source": [
    "def isascii(s):\n",
    "    \"\"\"Check if the characters in string s are in ASCII, U+0-U+7F.\"\"\"\n",
    "    return len(s) == len(s.encode())"
   ]
  },
  {
   "cell_type": "code",
   "execution_count": 10,
   "metadata": {},
   "outputs": [],
   "source": [
    "with open(\"raw/triviaqa-unfiltered/unfiltered-web-dev.json\", \"r\") as fp:\n",
    "    raw = json.load(fp) \n",
    "list_preprocessed = []\n",
    "for example in raw[\"Data\"]:\n",
    "    references = [alias for alias in list(example[\"Answer\"][\"Aliases\"]) if isascii(alias)]\n",
    "    list_preprocessed.append({\n",
    "        \"qid\": f\"triviaqa-{example['QuestionId']}\", \n",
    "        \"question\": example[\"Question\"], \n",
    "        \"reference_answers\": references,\n",
    "        # \"reference_answers\": random.sample(references, min(5, len(references))),\n",
    "    })\n",
    "df = pd.DataFrame(list_preprocessed) \n",
    "df.to_csv(\"preprocessed/triviaqa-dev.csv\", index=False)"
   ]
  },
  {
   "cell_type": "code",
   "execution_count": 9,
   "metadata": {},
   "outputs": [],
   "source": [
    "with open(\"raw/SciQ-dataset/valid.json\", \"r\") as fp:\n",
    "    raw = json.load(fp) \n",
    "list_preprocessed = []\n",
    "for i, example in enumerate(raw):\n",
    "    list_preprocessed.append({\n",
    "        \"qid\": f\"sciq-valid-{i}\", \n",
    "        \"question\": example[\"question\"], \n",
    "        \"reference_answers\": example[\"correct_answer\"],\n",
    "    })\n",
    "df = pd.DataFrame(list_preprocessed) \n",
    "df.to_csv(\"preprocessed/sciq-valid.csv\", index=False)"
   ]
  },
  {
   "cell_type": "code",
   "execution_count": 18,
   "metadata": {},
   "outputs": [],
   "source": [
    "raw = pd.read_csv(\"raw/TruthfulQA.csv\")\n",
    "list_preprocessed = []\n",
    "for i, example in raw.iterrows():\n",
    "    list_preprocessed.append({\n",
    "        \"qid\": f\"truthfalqa-{i}\", \n",
    "        \"question\": example[\"Question\"], \n",
    "        \"reference_answers\": example[\"Correct Answers\"].split(\";\"),\n",
    "    })\n",
    "df = pd.DataFrame(list_preprocessed) \n",
    "df.to_csv(\"preprocessed/truthfulqa.csv\", index=False)"
   ]
  },
  {
   "cell_type": "code",
   "execution_count": 4,
   "metadata": {},
   "outputs": [],
   "source": [
    "results = [] \n",
    "with open(\"raw/MATH/test-prm800k-500.jsonl\", \"r\") as fp:\n",
    "    json_list = list(fp)\n",
    "for json_str in json_list:\n",
    "    results.append(json.loads(json_str))\n",
    "list_preprocessed = []\n",
    "for example in results:\n",
    "    list_preprocessed.append({\n",
    "        \"qid\": f\"MATH-{example['unique_id']}\", \n",
    "        \"question\": example[\"problem\"].replace(\"{\", \"{{\").replace(\"}\", \"}}\"),\n",
    "        \"reference_answers\": example[\"answer\"].replace(\"{\", \"{{\").replace(\"}\", \"}}\"),\n",
    "        \"reference_process\": example[\"solution\"].replace(\"{\", \"{{\").replace(\"}\", \"}}\"),\n",
    "        \"subject\": example[\"subject\"],\n",
    "    })\n",
    "df = pd.DataFrame(list_preprocessed) \n",
    "df.to_csv(\"preprocessed/math-test-prm800k.csv\", index=False)"
   ]
  },
  {
   "cell_type": "code",
   "execution_count": 14,
   "metadata": {},
   "outputs": [],
   "source": [
    "with open('raw/WikiLingua/english.pkl', 'rb') as f:\n",
    "    english_docs = pickle.load(f)  # 57945 urls\n",
    "with open('raw/WikiLingua/chinese.pkl', 'rb') as f:\n",
    "    chinese_docs = pickle.load(f)  # 6541 urls\n",
    "count = 1000  # 1000 pairs of (eng_doc, eng_summary, chn_doc, chn_summary), try chn_doc -> eng_summary for now\n",
    "list_preprocessed = []\n",
    "for chinese_doc in chinese_docs.values():\n",
    "    outer_break = False\n",
    "    for doc in chinese_doc.values():\n",
    "        chn_doc = doc[\"document\"]\n",
    "        chn_summary = doc[\"summary\"]        \n",
    "        eng_sn = doc.get(\"english_section_name\", None)\n",
    "        if not eng_sn:\n",
    "            continue\n",
    "        eng_url = doc[\"english_url\"]\n",
    "        parallel_pos = english_docs[eng_url][eng_sn]\n",
    "        eng_doc = parallel_pos[\"document\"]\n",
    "        eng_summary = parallel_pos[\"summary\"]\n",
    "        list_preprocessed.append({\n",
    "            \"qid\": f\"WikiLingua-{count}\", \n",
    "            \"question\": f\"Please summarize the following sentences using English:\\n{chn_doc}\",\n",
    "            \"reference_answers\": eng_summary,\n",
    "            \"chn_summary\": chn_summary,\n",
    "            \"eng_doc\": eng_doc,\n",
    "            \"source_url\": eng_url,\n",
    "        })\n",
    "        count = count - 1\n",
    "        if not count:\n",
    "            outer_break = True\n",
    "            break\n",
    "    if outer_break:\n",
    "        break\n",
    "df = pd.DataFrame(list_preprocessed) \n",
    "df.to_csv(\"preprocessed/WikiLingua-1000-chn-eng.csv\", index=False)        \n",
    "\n"
   ]
  },
  {
   "cell_type": "code",
   "execution_count": 13,
   "metadata": {},
   "outputs": [
    {
     "data": {
      "text/plain": [
       "('https://zh.wikihow.com/%E8%AE%A1%E7%AE%97%E6%8A%95%E8%B5%84%E7%BB%84%E5%90%88%E7%9A%84%E5%B9%B4%E5%8C%96%E6%94%B6%E7%9B%8A%E7%8E%87',\n",
       " {'计算年化收益率': {'summary': '计算年化收益率。 计算半年收益率。 计算年化当量。',\n",
       "   'document': '算出总收益率后（如上），将结果代入这个方程：年化收益率=(1+ 收益率)1/N-1。这个方程的结果就是整个投资期内每年的收益率。  这里的指数（即括号外的小数字）中，“1”代表计算的单位，也就是1年。如果你想更精确，可以用“365”计算每日收益。 “N”代表计算的期限。因此，如果计算的是7年里的收益情况，“N”应为7。 例如，在7年的时间里，你的投资组合价值从1000元增加到2500元。 首先计算总收益率：（2500-1000）/1000 = 1.50（收益率为150%）。 然后计算年化收益率：（1 + 1.50)1/7-1 = 0.1399 = 13.99%。就是这样！ 就用平常的运算顺序：先做括号内的运算，然后计算指数，最后做减法。 现在假设你想知道这7年中每半年的收益是多少（每年有两个半年收益，每隔六个月一个）。公式不变，只需调整计算的期数即可。最终的结果就是半年收益率。   本例中7年里每年有两个周期，因此有14个半年周期。 首先计算总收益率：（2500-1000)/1000 = 1.50（收益率为150%）。 然后计算年化收益率：（1+1.50）1/14-1 = 6.76%。 只要简单地将这个结果乘以2就能转化成年化收益率：6.76% x 2 = 13.52%。 你还可以计算更短期限内收益率的年化当量。例如，你只有6个月的收益，想知道年化当量。公式仍然不变。  假设在6个月的时间里，投资组合的价值从1000元增加到1050元。 先计算总收益率：（1050-1000）/1,000=0.05（6个月内的收益率为5%）。 如果想知道年化当量是多少（假设收益率和复合收益率不变），只需按如下计算：（1+0.05）1/0.50-1=10.25%。 只要按照以上公式计算，无论期限长短都能将其收益转换成年化收益率。',\n",
       "   'english_section_name': 'Calculating Your Annualized Return',\n",
       "   'english_url': 'https://www.wikihow.com/Calculate-Annualized-Portfolio-Return'},\n",
       "  '做好准备工作': {'summary': '了解关键术语。 了解复利是如何运作的。 使用时间加权收益率计算复合收益率。 计算总收益。 了解这些计算的EXCEL公式。',\n",
       "   'document': '在讨论投资组合的年化收益时，有几个关键术语会反复出现，必须要理解。这些术语如下：  年收益：某项投资在一个日历年中的总收益，包括股息、利息和资本收益。  年化收益率：对于期限短于或长于一个日历年的收益进行推断，得出年化收益率。  平均收益：将较长期限内实现的总收益平均分配至更短的期限，得出每个较短期限内的象征性收益。  复合收益：包括利息再投资、股息和资本收益的回报。  期限：计算收益的特定时间段，例如每日、每月、每季或每年。 期间收益：某项投资在特定时间段内的总收益。 复利是已获得收益的再增长。复利期限越长增长越快，年化收益率也越高。（就像滚雪球一样，会越滚越大越滚越快。）  假设你投资了100元，第一年赚了100%，到年底就会有200元。如果第二年只增长了10%，那第二年底的200元就只能赚20元。 但是，假设第一年只赚了50%，那第二年初就有150元。第二年同样增长10%就只能赚15元而不是20元。这比第一个例子中的20元减少了整整33%。 为了进一步说明，假设第一年亏损了50%，只剩50元。你需要盈利100%才能与原来持平（50元增长100%等于50元，50元+50元=100元）。 在计算复合收益及其对年化收益率的影响时，收益的规模和时间很重要。换句话说，年化收益率并不是衡量实际收益或损失的可靠指标，但在比较各种投资时是个不错的工具。 计算很多事情的平均值，例如每日降雨量或几个月减少的体重，经常会用到简单的平均值或算术平均值。这种方法在学校里学过。然而简单的平均数并没有考虑期间收益的相互影响或每笔收益的时间。为了解决这个问题，我们可以用时间加权的几何平均收益。（不用担心，我们会一步步列出公式！）  使用简单的平均数无法计算，因为所有的期间收益是相互依赖的。  例如，你想计算两年内投资100元的平均收益。第一年赚了100%，也就是说第一年底有200元（100*100%=100）；第二年亏损50%，第二年底只有100元（200*50%=100）。这跟第一年开始时的数目相同。 简单平均数（算术平均值）是将两个收益相加再除以期数，本例中为2年。结果显示每年平均收益率为25%。然而你把两个收益连在一起看，就知道其实什么也没赚到。两年的收益相互抵消了。 首先要算出整个计算期间内的总收益。为了讲得更清楚，例子中就没有存取款。计算总收益需要两个数值：投资组合的期初值和期末值。  期末值减去期初值。 将结果除以期初值，得出的就是收益率。 若该期间发生亏损，用期初值中减去期末值；然后除以期初值，结果应为负值。（后面这么做是为了不用计算负数。）  先减后除。这样能算出总收益率。 总收益率=（期末资金-期初资金）/期初资金。复合收益率=POWER（（1 +总收益率），（1/年数））-1。 例如，投资的期初资金为1000元，7年之后的期末资金为2500元，计算过程如下：  总收益率=（2500-1000）/1000 = 1.5。 复合收益率= POWER（（1 + 1.5），（1/7））-1=0.1398 = 13.98%。',\n",
       "   'english_section_name': 'Laying the Groundwork',\n",
       "   'english_url': 'https://www.wikihow.com/Calculate-Annualized-Portfolio-Return'}})"
      ]
     },
     "execution_count": 13,
     "metadata": {},
     "output_type": "execute_result"
    }
   ],
   "source": [
    "list(chinese_docs.items())[0]"
   ]
  },
  {
   "cell_type": "code",
   "execution_count": 3,
   "metadata": {},
   "outputs": [],
   "source": [
    "results = [] \n",
    "with open(\"raw/gsm8k/test.jsonl\", \"r\") as fp:\n",
    "    json_list = list(fp)\n",
    "for json_str in json_list:\n",
    "    results.append(json.loads(json_str))\n",
    "list_preprocessed = []\n",
    "for i, example in enumerate(results):\n",
    "    list_preprocessed.append({\n",
    "        \"qid\": f\"gsm8k-{i}\", \n",
    "        \"question\": example[\"question\"],\n",
    "        \"reference_answers\": example[\"answer\"].split(\"\\n####\")[1].strip(),\n",
    "        \"reference_process\": example[\"answer\"].split(\"\\n####\")[0].strip(),\n",
    "    })\n",
    "df = pd.DataFrame(list_preprocessed) \n",
    "df.to_csv(\"preprocessed/gsm8k-test.csv\", index=False)"
   ]
  },
  {
   "cell_type": "code",
   "execution_count": 5,
   "metadata": {},
   "outputs": [],
   "source": [
    "with open(\"raw/TheoremQA/theoremqa_test.json\", \"r\") as fp:\n",
    "    raw = json.load(fp) \n",
    "list_preprocessed = []\n",
    "for i, example in enumerate(raw):\n",
    "    list_preprocessed.append({\n",
    "        \"qid\": f\"theoremqa-{example['id']}\", \n",
    "        \"question\": example[\"Question\"],\n",
    "        \"reference_answers\": str(example[\"Answer\"]),\n",
    "        \"subfield\": example[\"subfield\"],\n",
    "    })\n",
    "df = pd.DataFrame(list_preprocessed) \n",
    "df.to_csv(\"preprocessed/theoremqa-test.csv\", index=False)"
   ]
  },
  {
   "cell_type": "code",
   "execution_count": 4,
   "metadata": {},
   "outputs": [],
   "source": [
    "with open(\"raw/AmbigQA/dev_light.json\", \"r\") as fp:\n",
    "    raw = json.load(fp) \n",
    "list_preprocessed = []\n",
    "for i, example in enumerate(raw):\n",
    "    reference_answers = []\n",
    "    interpretations = []\n",
    "    annotations = example[\"annotations\"]\n",
    "    for annotation in annotations:\n",
    "        if annotation[\"type\"] == \"multipleQAs\":\n",
    "            pairs = annotation[\"qaPairs\"]\n",
    "            interpretations.extend([pair[\"question\"] for pair in pairs])\n",
    "            reference_answers.extend([pair[\"answer\"] for pair in pairs])\n",
    "    if not interpretations or not reference_answers:\n",
    "        continue\n",
    "    list_preprocessed.append({\n",
    "        \"qid\": f\"ambigqa-{example['id']}\", \n",
    "        \"question\": example[\"question\"],\n",
    "        \"reference_answers\": reference_answers,\n",
    "        \"interpretations\": interpretations,\n",
    "    })\n",
    "df = pd.DataFrame(list_preprocessed) \n",
    "df.to_csv(\"preprocessed/ambigqa.csv\", index=False)"
   ]
  },
  {
   "cell_type": "code",
   "execution_count": 10,
   "metadata": {},
   "outputs": [],
   "source": [
    "raw = pd.read_csv(\"raw/gpqa/gpqa_diamond.csv\")\n",
    "list_preprocessed = []\n",
    "for i, example in raw.iterrows():\n",
    "    list_preprocessed.append({\n",
    "        \"qid\": f\"gpqa-diamond-{i}\", \n",
    "        \"question\": example[\"Question\"], \n",
    "        \"reference_answers\": example[\"Correct Answer\"],\n",
    "        \"incorrect_answers\": \";\".join([example[\"Incorrect Answer 1\"], example[\"Incorrect Answer 2\"], example[\"Incorrect Answer 3\"]]),\n",
    "        \"explanation\": example[\"Explanation\"]\n",
    "    })\n",
    "df = pd.DataFrame(list_preprocessed) \n",
    "df.to_csv(\"preprocessed/gpqa_diamond.csv\", index=False)"
   ]
  },
  {
   "cell_type": "code",
   "execution_count": 5,
   "metadata": {},
   "outputs": [],
   "source": [
    "with open(\"raw/DateUnd/date_understanding.json\", \"r\") as fp:\n",
    "    examples = json.load(fp)[\"examples\"] \n",
    "list_preprocessed = []\n",
    "for i, example in enumerate(examples):\n",
    "    raw_question = example[\"input\"]\n",
    "    correct_choice = example[\"target\"]\n",
    "    for l in raw_question.split(\"\\n\"):\n",
    "        if l.startswith(correct_choice):\n",
    "            correct_ans = l\n",
    "\n",
    "    list_preprocessed.append({\n",
    "        \"qid\": f\"dateUnd-{i}\", \n",
    "        \"question\": example[\"input\"] + \"\\nChoose one option (surrounded in round brackets)\", \n",
    "        \"reference_answers\": example[\"target\"].replace(\"(\", \"\").replace(\")\", \"\"),\n",
    "        \"full_answers\": correct_ans\n",
    "    })\n",
    "df = pd.DataFrame(list_preprocessed) \n",
    "df.to_csv(\"preprocessed/dateUnd.csv\", index=False)"
   ]
  },
  {
   "cell_type": "code",
   "execution_count": 7,
   "metadata": {},
   "outputs": [],
   "source": [
    "raw = pd.read_csv(\"raw/Prf-Law/professional_law_test.csv\", names=[\"Question\", \"A\", \"B\", \"C\", \"D\", \"Correct Answer\"])\n",
    "list_preprocessed = []\n",
    "for i, example in raw.iterrows():\n",
    "    options = [f\"{k}.{example[k]}\" for k in [\"A\", \"B\", \"C\", \"D\"]]\n",
    "    list_preprocessed.append({\n",
    "        \"qid\": f\"prfLaw-{i}\", \n",
    "        \"question\": example[\"Question\"] + \" Options (choose one):\\n\" + \"\\n\".join(options), \n",
    "        \"reference_answers\": example[\"Correct Answer\"],\n",
    "    })\n",
    "df = pd.DataFrame(list_preprocessed) \n",
    "df.to_csv(\"preprocessed/prfLaw.csv\", index=False)"
   ]
  },
  {
   "cell_type": "code",
   "execution_count": 4,
   "metadata": {},
   "outputs": [],
   "source": [
    "raw = pd.read_csv(\"raw/Biz-Ethics/business_ethics_test.csv\", names=[\"Question\", \"A\", \"B\", \"C\", \"D\", \"Correct Answer\"])\n",
    "list_preprocessed = []\n",
    "for i, example in raw.iterrows():\n",
    "    options = [f\"{k}.{example[k]}\" for k in [\"A\", \"B\", \"C\", \"D\"]]\n",
    "    list_preprocessed.append({\n",
    "        \"qid\": f\"Biz-Ethics-{i}\", \n",
    "        \"question\": example[\"Question\"] + \"\\nOptions (choose one):\\n\" + \"\\n\".join(options), \n",
    "        \"reference_answers\": example[\"Correct Answer\"],\n",
    "    })\n",
    "df = pd.DataFrame(list_preprocessed) \n",
    "df.to_csv(\"preprocessed/Biz-Ethics.csv\", index=False)"
   ]
  }
 ],
 "metadata": {
  "kernelspec": {
   "display_name": "Python 3",
   "language": "python",
   "name": "python3"
  },
  "language_info": {
   "codemirror_mode": {
    "name": "ipython",
    "version": 3
   },
   "file_extension": ".py",
   "mimetype": "text/x-python",
   "name": "python",
   "nbconvert_exporter": "python",
   "pygments_lexer": "ipython3",
   "version": "3.11.7"
  }
 },
 "nbformat": 4,
 "nbformat_minor": 2
}
